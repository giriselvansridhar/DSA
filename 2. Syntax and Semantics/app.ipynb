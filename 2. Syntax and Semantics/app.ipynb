{
 "cells": [
  {
   "cell_type": "markdown",
   "id": "090bd6bb",
   "metadata": {},
   "source": [
    "1. Syntax\n",
    "2. Semantics\n",
    "3. Single Comments\n",
    "4. Multiline comments\n",
    "5. Variable Assignment\n",
    "6. Intentations\n",
    "7. Block of staments\n",
    "8. Intentation Error\n",
    "9. Name Error\n",
    "10. Type inference\n"
   ]
  },
  {
   "cell_type": "markdown",
   "id": "2c8e3cb9",
   "metadata": {},
   "source": [
    "Syntax: The rules and structure that define how Python code must be written so it can be understood by the interpreter.\n",
    "\n",
    "Rules:\n",
    "\n",
    "1. Case Sensitivity\n"
   ]
  },
  {
   "cell_type": "markdown",
   "id": "4a279110",
   "metadata": {},
   "source": [
    "Symantics: The meaning or behavior of the code — what the code does when it runs."
   ]
  },
  {
   "cell_type": "code",
   "execution_count": 4,
   "id": "79543709",
   "metadata": {},
   "outputs": [
    {
     "name": "stdout",
     "output_type": "stream",
     "text": [
      "Triple quote works in the app.py not in the jupiter notebook mostly\n"
     ]
    }
   ],
   "source": [
    "## This is the comments\n",
    "\n",
    "'''\n",
    "This is a multiline comment\n",
    "written using triple single quotes.\n",
    "'''\n",
    "\n",
    "\n",
    "print(\"Triple quote works in the app.py not in the jupiter notebook mostly\")\n"
   ]
  },
  {
   "cell_type": "code",
   "execution_count": 5,
   "id": "4e4ce2b5",
   "metadata": {},
   "outputs": [
    {
     "name": "stdout",
     "output_type": "stream",
     "text": [
      "Krish\n",
      "Naik\n"
     ]
    }
   ],
   "source": [
    "## Variable\n",
    "Name=\"Krish\"\n",
    "name=\"Naik\"\n",
    "print(Name)\n",
    "print(name)\n"
   ]
  },
  {
   "cell_type": "code",
   "execution_count": 27,
   "id": "cd7ecd67",
   "metadata": {},
   "outputs": [
    {
     "name": "stdout",
     "output_type": "stream",
     "text": [
      "32\n",
      "32\n"
     ]
    }
   ],
   "source": [
    "## Indentation - define a block of code. \n",
    "## 4 space or tab space\n",
    "age=32\n",
    "if age>30:\n",
    "    print(age)\n",
    "print(age)\n"
   ]
  },
  {
   "cell_type": "code",
   "execution_count": null,
   "id": "009fef72",
   "metadata": {},
   "outputs": [
    {
     "name": "stdout",
     "output_type": "stream",
     "text": [
      "45\n"
     ]
    }
   ],
   "source": [
    "## Line Continuation (\\)\n",
    "\n",
    "total=1+2+3+4+5+6+\\\n",
    "7+8+9\n",
    "print(total)"
   ]
  },
  {
   "cell_type": "code",
   "execution_count": 29,
   "id": "020af04a",
   "metadata": {},
   "outputs": [
    {
     "name": "stdout",
     "output_type": "stream",
     "text": [
      "15\n"
     ]
    }
   ],
   "source": [
    "## Multiple statements\n",
    "x=5; y=10; z = x+y; print(z)"
   ]
  },
  {
   "cell_type": "code",
   "execution_count": 30,
   "id": "63968b62",
   "metadata": {},
   "outputs": [],
   "source": [
    "## Understanding Semantics in python\n",
    "# Variable Assignment\n",
    "age=32 ##age is an integer\n",
    "name= \"Krish\" ## Name is a string"
   ]
  },
  {
   "cell_type": "code",
   "execution_count": null,
   "id": "d36a5770",
   "metadata": {},
   "outputs": [
    {
     "name": "stdout",
     "output_type": "stream",
     "text": [
      "<class 'int'>\n",
      "<class 'str'>\n"
     ]
    }
   ],
   "source": [
    "## Type Inference\n",
    "\n",
    "print(type(age))\n",
    "print(type(name))"
   ]
  },
  {
   "cell_type": "code",
   "execution_count": null,
   "id": "38fcf499",
   "metadata": {},
   "outputs": [
    {
     "ename": "IndentationError",
     "evalue": "expected an indented block after 'if' statement on line 2 (3004092960.py, line 3)",
     "output_type": "error",
     "traceback": [
      "  \u001b[36mCell\u001b[39m\u001b[36m \u001b[39m\u001b[32mIn[33]\u001b[39m\u001b[32m, line 3\u001b[39m\n\u001b[31m    \u001b[39m\u001b[31mprint(age)\u001b[39m\n    ^\n\u001b[31mIndentationError\u001b[39m\u001b[31m:\u001b[39m expected an indented block after 'if' statement on line 2\n"
     ]
    }
   ],
   "source": [
    "## Inentation error Error\n",
    "age=32\n",
    "if age>30:\n",
    "print(age)"
   ]
  },
  {
   "cell_type": "code",
   "execution_count": null,
   "id": "541b80b9",
   "metadata": {},
   "outputs": [
    {
     "ename": "NameError",
     "evalue": "name 'b' is not defined",
     "output_type": "error",
     "traceback": [
      "\u001b[31m---------------------------------------------------------------------------\u001b[39m",
      "\u001b[31mNameError\u001b[39m                                 Traceback (most recent call last)",
      "\u001b[36mCell\u001b[39m\u001b[36m \u001b[39m\u001b[32mIn[34]\u001b[39m\u001b[32m, line 1\u001b[39m\n\u001b[32m----> \u001b[39m\u001b[32m1\u001b[39m a=\u001b[43mb\u001b[49m\n",
      "\u001b[31mNameError\u001b[39m: name 'b' is not defined"
     ]
    }
   ],
   "source": [
    "# Name Error\n",
    "a=b"
   ]
  }
 ],
 "metadata": {
  "kernelspec": {
   "display_name": "dsa_environment",
   "language": "python",
   "name": "python3"
  },
  "language_info": {
   "codemirror_mode": {
    "name": "ipython",
    "version": 3
   },
   "file_extension": ".py",
   "mimetype": "text/x-python",
   "name": "python",
   "nbconvert_exporter": "python",
   "pygments_lexer": "ipython3",
   "version": "3.13.4"
  }
 },
 "nbformat": 4,
 "nbformat_minor": 5
}
